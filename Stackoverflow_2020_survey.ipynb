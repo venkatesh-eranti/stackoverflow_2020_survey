{
  "nbformat": 4,
  "nbformat_minor": 0,
  "metadata": {
    "colab": {
      "name": "Stackoverflow 2020 survey.ipynb",
      "provenance": [],
      "collapsed_sections": [],
      "authorship_tag": "ABX9TyNm3XkcFR+BZz6/1zJj006x",
      "include_colab_link": true
    },
    "kernelspec": {
      "name": "python3",
      "display_name": "Python 3"
    }
  },
  "cells": [
    {
      "cell_type": "markdown",
      "metadata": {
        "id": "view-in-github",
        "colab_type": "text"
      },
      "source": [
        "<a href=\"https://colab.research.google.com/github/venkatesh-eranti/stackoverflow_2020_survey/blob/main/Stackoverflow_2020_survey.ipynb\" target=\"_parent\"><img src=\"https://colab.research.google.com/assets/colab-badge.svg\" alt=\"Open In Colab\"/></a>"
      ]
    },
    {
      "cell_type": "markdown",
      "metadata": {
        "id": "FOwKR9gWvUSH"
      },
      "source": [
        "[stackoverflow survey 2020](https://insights.stackoverflow.com/survey/2020)"
      ]
    },
    {
      "cell_type": "code",
      "metadata": {
        "id": "_noK5twBpWEk"
      },
      "source": [
        "import pandas as pd\n",
        "import numpy as np\n",
        "import seaborn as sns\n",
        "import matplotlib.pyplot as plt\n",
        "%matplotlib inline"
      ],
      "execution_count": null,
      "outputs": []
    },
    {
      "cell_type": "code",
      "metadata": {
        "id": "HqbMk1xWpwXm"
      },
      "source": [
        "df=pd.read_csv('survey_results_public.csv')"
      ],
      "execution_count": null,
      "outputs": []
    },
    {
      "cell_type": "code",
      "metadata": {
        "id": "oimrFPZlpz8F"
      },
      "source": [
        "survey_results_schema=pd.read_csv('survey_results_schema.csv')"
      ],
      "execution_count": null,
      "outputs": []
    },
    {
      "cell_type": "code",
      "metadata": {
        "colab": {
          "base_uri": "https://localhost:8080/"
        },
        "id": "qaqaIWlcvNmX",
        "outputId": "c450d5aa-b51b-4e04-e12f-b7796f8a99e8"
      },
      "source": [
        "df.shape"
      ],
      "execution_count": null,
      "outputs": [
        {
          "output_type": "execute_result",
          "data": {
            "text/plain": [
              "(64461, 61)"
            ]
          },
          "metadata": {
            "tags": []
          },
          "execution_count": 4
        }
      ]
    },
    {
      "cell_type": "code",
      "metadata": {
        "colab": {
          "base_uri": "https://localhost:8080/",
          "height": 301
        },
        "id": "K8ArDnKIp0uG",
        "outputId": "cb6c51f3-a4d0-4416-caaf-536be68a4c4b"
      },
      "source": [
        "df.head(2)"
      ],
      "execution_count": null,
      "outputs": [
        {
          "output_type": "execute_result",
          "data": {
            "text/html": [
              "<div>\n",
              "<style scoped>\n",
              "    .dataframe tbody tr th:only-of-type {\n",
              "        vertical-align: middle;\n",
              "    }\n",
              "\n",
              "    .dataframe tbody tr th {\n",
              "        vertical-align: top;\n",
              "    }\n",
              "\n",
              "    .dataframe thead th {\n",
              "        text-align: right;\n",
              "    }\n",
              "</style>\n",
              "<table border=\"1\" class=\"dataframe\">\n",
              "  <thead>\n",
              "    <tr style=\"text-align: right;\">\n",
              "      <th></th>\n",
              "      <th>Respondent</th>\n",
              "      <th>MainBranch</th>\n",
              "      <th>Hobbyist</th>\n",
              "      <th>Age</th>\n",
              "      <th>Age1stCode</th>\n",
              "      <th>CompFreq</th>\n",
              "      <th>CompTotal</th>\n",
              "      <th>ConvertedComp</th>\n",
              "      <th>Country</th>\n",
              "      <th>CurrencyDesc</th>\n",
              "      <th>CurrencySymbol</th>\n",
              "      <th>DatabaseDesireNextYear</th>\n",
              "      <th>DatabaseWorkedWith</th>\n",
              "      <th>DevType</th>\n",
              "      <th>EdLevel</th>\n",
              "      <th>Employment</th>\n",
              "      <th>Ethnicity</th>\n",
              "      <th>Gender</th>\n",
              "      <th>JobFactors</th>\n",
              "      <th>JobSat</th>\n",
              "      <th>JobSeek</th>\n",
              "      <th>LanguageDesireNextYear</th>\n",
              "      <th>LanguageWorkedWith</th>\n",
              "      <th>MiscTechDesireNextYear</th>\n",
              "      <th>MiscTechWorkedWith</th>\n",
              "      <th>NEWCollabToolsDesireNextYear</th>\n",
              "      <th>NEWCollabToolsWorkedWith</th>\n",
              "      <th>NEWDevOps</th>\n",
              "      <th>NEWDevOpsImpt</th>\n",
              "      <th>NEWEdImpt</th>\n",
              "      <th>NEWJobHunt</th>\n",
              "      <th>NEWJobHuntResearch</th>\n",
              "      <th>NEWLearn</th>\n",
              "      <th>NEWOffTopic</th>\n",
              "      <th>NEWOnboardGood</th>\n",
              "      <th>NEWOtherComms</th>\n",
              "      <th>NEWOvertime</th>\n",
              "      <th>NEWPurchaseResearch</th>\n",
              "      <th>NEWPurpleLink</th>\n",
              "      <th>NEWSOSites</th>\n",
              "      <th>NEWStuck</th>\n",
              "      <th>OpSys</th>\n",
              "      <th>OrgSize</th>\n",
              "      <th>PlatformDesireNextYear</th>\n",
              "      <th>PlatformWorkedWith</th>\n",
              "      <th>PurchaseWhat</th>\n",
              "      <th>Sexuality</th>\n",
              "      <th>SOAccount</th>\n",
              "      <th>SOComm</th>\n",
              "      <th>SOPartFreq</th>\n",
              "      <th>SOVisitFreq</th>\n",
              "      <th>SurveyEase</th>\n",
              "      <th>SurveyLength</th>\n",
              "      <th>Trans</th>\n",
              "      <th>UndergradMajor</th>\n",
              "      <th>WebframeDesireNextYear</th>\n",
              "      <th>WebframeWorkedWith</th>\n",
              "      <th>WelcomeChange</th>\n",
              "      <th>WorkWeekHrs</th>\n",
              "      <th>YearsCode</th>\n",
              "      <th>YearsCodePro</th>\n",
              "    </tr>\n",
              "  </thead>\n",
              "  <tbody>\n",
              "    <tr>\n",
              "      <th>0</th>\n",
              "      <td>1</td>\n",
              "      <td>I am a developer by profession</td>\n",
              "      <td>Yes</td>\n",
              "      <td>NaN</td>\n",
              "      <td>13</td>\n",
              "      <td>Monthly</td>\n",
              "      <td>NaN</td>\n",
              "      <td>NaN</td>\n",
              "      <td>Germany</td>\n",
              "      <td>European Euro</td>\n",
              "      <td>EUR</td>\n",
              "      <td>Microsoft SQL Server</td>\n",
              "      <td>Elasticsearch;Microsoft SQL Server;Oracle</td>\n",
              "      <td>Developer, desktop or enterprise applications;...</td>\n",
              "      <td>Master’s degree (M.A., M.S., M.Eng., MBA, etc.)</td>\n",
              "      <td>Independent contractor, freelancer, or self-em...</td>\n",
              "      <td>White or of European descent</td>\n",
              "      <td>Man</td>\n",
              "      <td>Languages, frameworks, and other technologies ...</td>\n",
              "      <td>Slightly satisfied</td>\n",
              "      <td>I am not interested in new job opportunities</td>\n",
              "      <td>C#;HTML/CSS;JavaScript</td>\n",
              "      <td>C#;HTML/CSS;JavaScript</td>\n",
              "      <td>.NET Core;Xamarin</td>\n",
              "      <td>.NET;.NET Core</td>\n",
              "      <td>Microsoft Teams;Microsoft Azure;Trello</td>\n",
              "      <td>Confluence;Jira;Slack;Microsoft Azure;Trello</td>\n",
              "      <td>No</td>\n",
              "      <td>Somewhat important</td>\n",
              "      <td>Fairly important</td>\n",
              "      <td>NaN</td>\n",
              "      <td>NaN</td>\n",
              "      <td>Once a year</td>\n",
              "      <td>Not sure</td>\n",
              "      <td>NaN</td>\n",
              "      <td>No</td>\n",
              "      <td>Often: 1-2 days per week or more</td>\n",
              "      <td>Start a free trial;Ask developers I know/work ...</td>\n",
              "      <td>Amused</td>\n",
              "      <td>Stack Overflow (public Q&amp;A for anyone who codes)</td>\n",
              "      <td>Visit Stack Overflow;Go for a walk or other ph...</td>\n",
              "      <td>Windows</td>\n",
              "      <td>2 to 9 employees</td>\n",
              "      <td>Android;iOS;Kubernetes;Microsoft Azure;Windows</td>\n",
              "      <td>Windows</td>\n",
              "      <td>NaN</td>\n",
              "      <td>Straight / Heterosexual</td>\n",
              "      <td>No</td>\n",
              "      <td>No, not at all</td>\n",
              "      <td>NaN</td>\n",
              "      <td>Multiple times per day</td>\n",
              "      <td>Neither easy nor difficult</td>\n",
              "      <td>Appropriate in length</td>\n",
              "      <td>No</td>\n",
              "      <td>Computer science, computer engineering, or sof...</td>\n",
              "      <td>ASP.NET Core</td>\n",
              "      <td>ASP.NET;ASP.NET Core</td>\n",
              "      <td>Just as welcome now as I felt last year</td>\n",
              "      <td>50.0</td>\n",
              "      <td>36</td>\n",
              "      <td>27</td>\n",
              "    </tr>\n",
              "    <tr>\n",
              "      <th>1</th>\n",
              "      <td>2</td>\n",
              "      <td>I am a developer by profession</td>\n",
              "      <td>No</td>\n",
              "      <td>NaN</td>\n",
              "      <td>19</td>\n",
              "      <td>NaN</td>\n",
              "      <td>NaN</td>\n",
              "      <td>NaN</td>\n",
              "      <td>United Kingdom</td>\n",
              "      <td>Pound sterling</td>\n",
              "      <td>GBP</td>\n",
              "      <td>NaN</td>\n",
              "      <td>NaN</td>\n",
              "      <td>Developer, full-stack;Developer, mobile</td>\n",
              "      <td>Bachelor’s degree (B.A., B.S., B.Eng., etc.)</td>\n",
              "      <td>Employed full-time</td>\n",
              "      <td>NaN</td>\n",
              "      <td>NaN</td>\n",
              "      <td>NaN</td>\n",
              "      <td>Very dissatisfied</td>\n",
              "      <td>I am not interested in new job opportunities</td>\n",
              "      <td>Python;Swift</td>\n",
              "      <td>JavaScript;Swift</td>\n",
              "      <td>React Native;TensorFlow;Unity 3D</td>\n",
              "      <td>React Native</td>\n",
              "      <td>Github;Slack</td>\n",
              "      <td>Confluence;Jira;Github;Gitlab;Slack</td>\n",
              "      <td>NaN</td>\n",
              "      <td>NaN</td>\n",
              "      <td>Fairly important</td>\n",
              "      <td>NaN</td>\n",
              "      <td>NaN</td>\n",
              "      <td>Once a year</td>\n",
              "      <td>Not sure</td>\n",
              "      <td>NaN</td>\n",
              "      <td>No</td>\n",
              "      <td>NaN</td>\n",
              "      <td>NaN</td>\n",
              "      <td>Amused</td>\n",
              "      <td>Stack Overflow (public Q&amp;A for anyone who code...</td>\n",
              "      <td>Visit Stack Overflow;Go for a walk or other ph...</td>\n",
              "      <td>MacOS</td>\n",
              "      <td>1,000 to 4,999 employees</td>\n",
              "      <td>iOS;Kubernetes;Linux;MacOS</td>\n",
              "      <td>iOS</td>\n",
              "      <td>I have little or no influence</td>\n",
              "      <td>NaN</td>\n",
              "      <td>Yes</td>\n",
              "      <td>Yes, definitely</td>\n",
              "      <td>Less than once per month or monthly</td>\n",
              "      <td>Multiple times per day</td>\n",
              "      <td>NaN</td>\n",
              "      <td>NaN</td>\n",
              "      <td>NaN</td>\n",
              "      <td>Computer science, computer engineering, or sof...</td>\n",
              "      <td>NaN</td>\n",
              "      <td>NaN</td>\n",
              "      <td>Somewhat more welcome now than last year</td>\n",
              "      <td>NaN</td>\n",
              "      <td>7</td>\n",
              "      <td>4</td>\n",
              "    </tr>\n",
              "  </tbody>\n",
              "</table>\n",
              "</div>"
            ],
            "text/plain": [
              "   Respondent                      MainBranch  ... YearsCode  YearsCodePro\n",
              "0           1  I am a developer by profession  ...        36            27\n",
              "1           2  I am a developer by profession  ...         7             4\n",
              "\n",
              "[2 rows x 61 columns]"
            ]
          },
          "metadata": {
            "tags": []
          },
          "execution_count": 5
        }
      ]
    },
    {
      "cell_type": "code",
      "metadata": {
        "colab": {
          "base_uri": "https://localhost:8080/",
          "height": 408
        },
        "id": "uqhJBERlvK3X",
        "outputId": "b3b79adf-72cc-446d-b1be-0e072ff34b72"
      },
      "source": [
        "survey_results_schema"
      ],
      "execution_count": null,
      "outputs": [
        {
          "output_type": "execute_result",
          "data": {
            "text/html": [
              "<div>\n",
              "<style scoped>\n",
              "    .dataframe tbody tr th:only-of-type {\n",
              "        vertical-align: middle;\n",
              "    }\n",
              "\n",
              "    .dataframe tbody tr th {\n",
              "        vertical-align: top;\n",
              "    }\n",
              "\n",
              "    .dataframe thead th {\n",
              "        text-align: right;\n",
              "    }\n",
              "</style>\n",
              "<table border=\"1\" class=\"dataframe\">\n",
              "  <thead>\n",
              "    <tr style=\"text-align: right;\">\n",
              "      <th></th>\n",
              "      <th>Column</th>\n",
              "      <th>QuestionText</th>\n",
              "    </tr>\n",
              "  </thead>\n",
              "  <tbody>\n",
              "    <tr>\n",
              "      <th>0</th>\n",
              "      <td>Respondent</td>\n",
              "      <td>Randomized respondent ID number (not in order ...</td>\n",
              "    </tr>\n",
              "    <tr>\n",
              "      <th>1</th>\n",
              "      <td>MainBranch</td>\n",
              "      <td>Which of the following options best describes ...</td>\n",
              "    </tr>\n",
              "    <tr>\n",
              "      <th>2</th>\n",
              "      <td>Hobbyist</td>\n",
              "      <td>Do you code as a hobby?</td>\n",
              "    </tr>\n",
              "    <tr>\n",
              "      <th>3</th>\n",
              "      <td>Age</td>\n",
              "      <td>What is your age (in years)? If you prefer not...</td>\n",
              "    </tr>\n",
              "    <tr>\n",
              "      <th>4</th>\n",
              "      <td>Age1stCode</td>\n",
              "      <td>At what age did you write your first line of c...</td>\n",
              "    </tr>\n",
              "    <tr>\n",
              "      <th>...</th>\n",
              "      <td>...</td>\n",
              "      <td>...</td>\n",
              "    </tr>\n",
              "    <tr>\n",
              "      <th>56</th>\n",
              "      <td>WebframeWorkedWith</td>\n",
              "      <td>Which web frameworks have you done extensive d...</td>\n",
              "    </tr>\n",
              "    <tr>\n",
              "      <th>57</th>\n",
              "      <td>WelcomeChange</td>\n",
              "      <td>Compared to last year, how welcome do you feel...</td>\n",
              "    </tr>\n",
              "    <tr>\n",
              "      <th>58</th>\n",
              "      <td>WorkWeekHrs</td>\n",
              "      <td>On average, how many hours per week do you wor...</td>\n",
              "    </tr>\n",
              "    <tr>\n",
              "      <th>59</th>\n",
              "      <td>YearsCode</td>\n",
              "      <td>Including any education, how many years have y...</td>\n",
              "    </tr>\n",
              "    <tr>\n",
              "      <th>60</th>\n",
              "      <td>YearsCodePro</td>\n",
              "      <td>NOT including education, how many years have y...</td>\n",
              "    </tr>\n",
              "  </tbody>\n",
              "</table>\n",
              "<p>61 rows × 2 columns</p>\n",
              "</div>"
            ],
            "text/plain": [
              "                Column                                       QuestionText\n",
              "0           Respondent  Randomized respondent ID number (not in order ...\n",
              "1           MainBranch  Which of the following options best describes ...\n",
              "2             Hobbyist                            Do you code as a hobby?\n",
              "3                  Age  What is your age (in years)? If you prefer not...\n",
              "4           Age1stCode  At what age did you write your first line of c...\n",
              "..                 ...                                                ...\n",
              "56  WebframeWorkedWith  Which web frameworks have you done extensive d...\n",
              "57       WelcomeChange  Compared to last year, how welcome do you feel...\n",
              "58         WorkWeekHrs  On average, how many hours per week do you wor...\n",
              "59           YearsCode  Including any education, how many years have y...\n",
              "60        YearsCodePro  NOT including education, how many years have y...\n",
              "\n",
              "[61 rows x 2 columns]"
            ]
          },
          "metadata": {
            "tags": []
          },
          "execution_count": 6
        }
      ]
    },
    {
      "cell_type": "code",
      "metadata": {
        "colab": {
          "base_uri": "https://localhost:8080/"
        },
        "id": "BoN84-jyUn3m",
        "outputId": "91d039ad-90b6-4470-9912-88a1eb16e8fb"
      },
      "source": [
        "df['DevType'].isnull().sum()"
      ],
      "execution_count": 78,
      "outputs": [
        {
          "output_type": "execute_result",
          "data": {
            "text/plain": [
              "15091"
            ]
          },
          "metadata": {
            "tags": []
          },
          "execution_count": 78
        }
      ]
    },
    {
      "cell_type": "code",
      "metadata": {
        "id": "XvFU2dgLUrAJ"
      },
      "source": [
        "DevType=df['DevType'][~(df['DevType'].isnull())]"
      ],
      "execution_count": 79,
      "outputs": []
    },
    {
      "cell_type": "code",
      "metadata": {
        "id": "i8xCPixOU8sO"
      },
      "source": [
        "DevType=DevType.str.split(';')"
      ],
      "execution_count": 80,
      "outputs": []
    },
    {
      "cell_type": "code",
      "metadata": {
        "colab": {
          "base_uri": "https://localhost:8080/"
        },
        "id": "TV4i3sbkU8_n",
        "outputId": "7175ae33-914f-42b2-fe06-c099b7c220c5"
      },
      "source": [
        "DevType"
      ],
      "execution_count": 81,
      "outputs": [
        {
          "output_type": "execute_result",
          "data": {
            "text/plain": [
              "0        [Developer, desktop or enterprise applications...\n",
              "1               [Developer, full-stack, Developer, mobile]\n",
              "5        [Designer, Developer, front-end, Developer, mo...\n",
              "6        [Developer, back-end, Developer, front-end, De...\n",
              "7        [Developer, back-end, Developer, desktop or en...\n",
              "                               ...                        \n",
              "64448    [Developer, back-end, Developer, desktop or en...\n",
              "64449                                  [Developer, mobile]\n",
              "64451      [Data scientist or machine learning specialist]\n",
              "64453    [Data or business analyst, Developer, mobile, ...\n",
              "64456                                [Senior executive/VP]\n",
              "Name: DevType, Length: 49370, dtype: object"
            ]
          },
          "metadata": {
            "tags": []
          },
          "execution_count": 81
        }
      ]
    },
    {
      "cell_type": "code",
      "metadata": {
        "colab": {
          "base_uri": "https://localhost:8080/"
        },
        "id": "D-z6fKOwU8K9",
        "outputId": "5be8aa86-4b52-45e7-bbea-d05dc96e03ac"
      },
      "source": [
        "dev_type_count={}\n",
        "for i in DevType:\n",
        "    for p in i:\n",
        "        if p in dev_type_count:\n",
        "            dev_type_count[p]+=1\n",
        "        else:\n",
        "            dev_type_count[p]=1\n",
        "dev_type_count"
      ],
      "execution_count": 82,
      "outputs": [
        {
          "output_type": "execute_result",
          "data": {
            "text/plain": [
              "{'Academic researcher': 3552,\n",
              " 'Data or business analyst': 4024,\n",
              " 'Data scientist or machine learning specialist': 3988,\n",
              " 'Database administrator': 5722,\n",
              " 'Designer': 5321,\n",
              " 'DevOps specialist': 5969,\n",
              " 'Developer, QA or test': 3947,\n",
              " 'Developer, back-end': 27228,\n",
              " 'Developer, desktop or enterprise applications': 11784,\n",
              " 'Developer, embedded applications or devices': 4750,\n",
              " 'Developer, front-end': 18296,\n",
              " 'Developer, full-stack': 27125,\n",
              " 'Developer, game or graphics': 2789,\n",
              " 'Developer, mobile': 9482,\n",
              " 'Educator': 2928,\n",
              " 'Engineer, data': 3738,\n",
              " 'Engineer, site reliability': 1940,\n",
              " 'Engineering manager': 2724,\n",
              " 'Marketing or sales professional': 642,\n",
              " 'Product manager': 2497,\n",
              " 'Scientist': 2086,\n",
              " 'Senior executive/VP': 1320,\n",
              " 'System administrator': 5242}"
            ]
          },
          "metadata": {
            "tags": []
          },
          "execution_count": 82
        }
      ]
    },
    {
      "cell_type": "code",
      "metadata": {
        "id": "2rHmAqB8VjJi"
      },
      "source": [
        "devtype_df=pd.DataFrame(list(dev_type_count.items()),columns=['Developer Type','count'])"
      ],
      "execution_count": 83,
      "outputs": []
    },
    {
      "cell_type": "code",
      "metadata": {
        "id": "ZGASviRGV6vd"
      },
      "source": [
        "devtype_df=devtype_df.sort_values(by='count',ascending=False)"
      ],
      "execution_count": 86,
      "outputs": []
    },
    {
      "cell_type": "code",
      "metadata": {
        "colab": {
          "base_uri": "https://localhost:8080/",
          "height": 513
        },
        "id": "mrC11R1dVxBV",
        "outputId": "b954542e-b370-483a-e61c-67b3d48576a6"
      },
      "source": [
        "plt.figure(figsize=(10,8))\n",
        "sns.barplot(x=devtype_df['count'],y=devtype_df['Developer Type'])\n",
        "plt.title('Developer Type')\n",
        "for i,v in enumerate(devtype_df['count']):\n",
        "    if v>1900:\n",
        "        plt.text(v-1700,i+0.25,str(v))\n",
        "    else:\n",
        "        plt.text(v-100,i+0.25,str(v))"
      ],
      "execution_count": 99,
      "outputs": [
        {
          "output_type": "display_data",
          "data": {
            "image/png": "[encoded data removed]",
            "text/plain": [
              "<Figure size 720x576 with 1 Axes>"
            ]
          },
          "metadata": {
            "tags": [],
            "needs_background": "light"
          }
        }
      ]
    },
    {
      "cell_type": "code",
      "metadata": {
        "colab": {
          "base_uri": "https://localhost:8080/",
          "height": 740
        },
        "id": "TVQO4ei2YhWq",
        "outputId": "e37db63e-3aa1-424a-ef3d-5cf3a1d7446b"
      },
      "source": [
        "devtype_df['percentage']=(devtype_df['count']/len(DevType))*100\n",
        "devtype_df"
      ],
      "execution_count": 105,
      "outputs": [
        {
          "output_type": "execute_result",
          "data": {
            "text/html": [
              "<div>\n",
              "<style scoped>\n",
              "    .dataframe tbody tr th:only-of-type {\n",
              "        vertical-align: middle;\n",
              "    }\n",
              "\n",
              "    .dataframe tbody tr th {\n",
              "        vertical-align: top;\n",
              "    }\n",
              "\n",
              "    .dataframe thead th {\n",
              "        text-align: right;\n",
              "    }\n",
              "</style>\n",
              "<table border=\"1\" class=\"dataframe\">\n",
              "  <thead>\n",
              "    <tr style=\"text-align: right;\">\n",
              "      <th></th>\n",
              "      <th>Developer Type</th>\n",
              "      <th>count</th>\n",
              "      <th>percentage</th>\n",
              "    </tr>\n",
              "  </thead>\n",
              "  <tbody>\n",
              "    <tr>\n",
              "      <th>5</th>\n",
              "      <td>Developer, back-end</td>\n",
              "      <td>27228</td>\n",
              "      <td>55.150901</td>\n",
              "    </tr>\n",
              "    <tr>\n",
              "      <th>1</th>\n",
              "      <td>Developer, full-stack</td>\n",
              "      <td>27125</td>\n",
              "      <td>54.942273</td>\n",
              "    </tr>\n",
              "    <tr>\n",
              "      <th>4</th>\n",
              "      <td>Developer, front-end</td>\n",
              "      <td>18296</td>\n",
              "      <td>37.058943</td>\n",
              "    </tr>\n",
              "    <tr>\n",
              "      <th>0</th>\n",
              "      <td>Developer, desktop or enterprise applications</td>\n",
              "      <td>11784</td>\n",
              "      <td>23.868746</td>\n",
              "    </tr>\n",
              "    <tr>\n",
              "      <th>2</th>\n",
              "      <td>Developer, mobile</td>\n",
              "      <td>9482</td>\n",
              "      <td>19.205996</td>\n",
              "    </tr>\n",
              "    <tr>\n",
              "      <th>7</th>\n",
              "      <td>DevOps specialist</td>\n",
              "      <td>5969</td>\n",
              "      <td>12.090338</td>\n",
              "    </tr>\n",
              "    <tr>\n",
              "      <th>9</th>\n",
              "      <td>Database administrator</td>\n",
              "      <td>5722</td>\n",
              "      <td>11.590034</td>\n",
              "    </tr>\n",
              "    <tr>\n",
              "      <th>3</th>\n",
              "      <td>Designer</td>\n",
              "      <td>5321</td>\n",
              "      <td>10.777800</td>\n",
              "    </tr>\n",
              "    <tr>\n",
              "      <th>13</th>\n",
              "      <td>System administrator</td>\n",
              "      <td>5242</td>\n",
              "      <td>10.617784</td>\n",
              "    </tr>\n",
              "    <tr>\n",
              "      <th>10</th>\n",
              "      <td>Developer, embedded applications or devices</td>\n",
              "      <td>4750</td>\n",
              "      <td>9.621227</td>\n",
              "    </tr>\n",
              "    <tr>\n",
              "      <th>16</th>\n",
              "      <td>Data or business analyst</td>\n",
              "      <td>4024</td>\n",
              "      <td>8.150699</td>\n",
              "    </tr>\n",
              "    <tr>\n",
              "      <th>18</th>\n",
              "      <td>Data scientist or machine learning specialist</td>\n",
              "      <td>3988</td>\n",
              "      <td>8.077780</td>\n",
              "    </tr>\n",
              "    <tr>\n",
              "      <th>6</th>\n",
              "      <td>Developer, QA or test</td>\n",
              "      <td>3947</td>\n",
              "      <td>7.994734</td>\n",
              "    </tr>\n",
              "    <tr>\n",
              "      <th>11</th>\n",
              "      <td>Engineer, data</td>\n",
              "      <td>3738</td>\n",
              "      <td>7.571400</td>\n",
              "    </tr>\n",
              "    <tr>\n",
              "      <th>17</th>\n",
              "      <td>Academic researcher</td>\n",
              "      <td>3552</td>\n",
              "      <td>7.194653</td>\n",
              "    </tr>\n",
              "    <tr>\n",
              "      <th>12</th>\n",
              "      <td>Educator</td>\n",
              "      <td>2928</td>\n",
              "      <td>5.930727</td>\n",
              "    </tr>\n",
              "    <tr>\n",
              "      <th>8</th>\n",
              "      <td>Developer, game or graphics</td>\n",
              "      <td>2789</td>\n",
              "      <td>5.649180</td>\n",
              "    </tr>\n",
              "    <tr>\n",
              "      <th>14</th>\n",
              "      <td>Engineering manager</td>\n",
              "      <td>2724</td>\n",
              "      <td>5.517521</td>\n",
              "    </tr>\n",
              "    <tr>\n",
              "      <th>15</th>\n",
              "      <td>Product manager</td>\n",
              "      <td>2497</td>\n",
              "      <td>5.057727</td>\n",
              "    </tr>\n",
              "    <tr>\n",
              "      <th>19</th>\n",
              "      <td>Scientist</td>\n",
              "      <td>2086</td>\n",
              "      <td>4.225238</td>\n",
              "    </tr>\n",
              "    <tr>\n",
              "      <th>21</th>\n",
              "      <td>Engineer, site reliability</td>\n",
              "      <td>1940</td>\n",
              "      <td>3.929512</td>\n",
              "    </tr>\n",
              "    <tr>\n",
              "      <th>20</th>\n",
              "      <td>Senior executive/VP</td>\n",
              "      <td>1320</td>\n",
              "      <td>2.673688</td>\n",
              "    </tr>\n",
              "    <tr>\n",
              "      <th>22</th>\n",
              "      <td>Marketing or sales professional</td>\n",
              "      <td>642</td>\n",
              "      <td>1.300385</td>\n",
              "    </tr>\n",
              "  </tbody>\n",
              "</table>\n",
              "</div>"
            ],
            "text/plain": [
              "                                   Developer Type  count  percentage\n",
              "5                             Developer, back-end  27228   55.150901\n",
              "1                           Developer, full-stack  27125   54.942273\n",
              "4                            Developer, front-end  18296   37.058943\n",
              "0   Developer, desktop or enterprise applications  11784   23.868746\n",
              "2                               Developer, mobile   9482   19.205996\n",
              "7                               DevOps specialist   5969   12.090338\n",
              "9                          Database administrator   5722   11.590034\n",
              "3                                        Designer   5321   10.777800\n",
              "13                           System administrator   5242   10.617784\n",
              "10    Developer, embedded applications or devices   4750    9.621227\n",
              "16                       Data or business analyst   4024    8.150699\n",
              "18  Data scientist or machine learning specialist   3988    8.077780\n",
              "6                           Developer, QA or test   3947    7.994734\n",
              "11                                 Engineer, data   3738    7.571400\n",
              "17                            Academic researcher   3552    7.194653\n",
              "12                                       Educator   2928    5.930727\n",
              "8                     Developer, game or graphics   2789    5.649180\n",
              "14                            Engineering manager   2724    5.517521\n",
              "15                                Product manager   2497    5.057727\n",
              "19                                      Scientist   2086    4.225238\n",
              "21                     Engineer, site reliability   1940    3.929512\n",
              "20                            Senior executive/VP   1320    2.673688\n",
              "22                Marketing or sales professional    642    1.300385"
            ]
          },
          "metadata": {
            "tags": []
          },
          "execution_count": 105
        }
      ]
    },
    {
      "cell_type": "code",
      "metadata": {
        "colab": {
          "base_uri": "https://localhost:8080/",
          "height": 513
        },
        "id": "QEOY5HmYZGMD",
        "outputId": "e825bbbe-54e3-4d19-efb7-c2ff0001f62d"
      },
      "source": [
        "plt.figure(figsize=(10,8))\n",
        "sns.barplot(x=devtype_df['percentage'],y=devtype_df['Developer Type'])\n",
        "plt.title('Developer Type ')\n",
        "for i,v in enumerate(devtype_df['percentage']):\n",
        "    plt.text(v,i,str(round(v,1)))"
      ],
      "execution_count": 108,
      "outputs": [
        {
          "output_type": "display_data",
          "data": {
            "image/png": "[encoded data removed]",
            "text/plain": [
              "<Figure size 720x576 with 1 Axes>"
            ]
          },
          "metadata": {
            "tags": [],
            "needs_background": "light"
          }
        }
      ]
    },
    {
      "cell_type": "markdown",
      "metadata": {
        "id": "AQqcbDkVbtNI"
      },
      "source": [
        "# formal education importance"
      ]
    },
    {
      "cell_type": "code",
      "metadata": {
        "colab": {
          "base_uri": "https://localhost:8080/"
        },
        "id": "g24CABAYbwXY",
        "outputId": "0849ae3a-b52b-44ef-9298-785c917002be"
      },
      "source": [
        "df['NEWEdImpt'].isnull().sum()"
      ],
      "execution_count": 110,
      "outputs": [
        {
          "output_type": "execute_result",
          "data": {
            "text/plain": [
              "15996"
            ]
          },
          "metadata": {
            "tags": []
          },
          "execution_count": 110
        }
      ]
    },
    {
      "cell_type": "code",
      "metadata": {
        "colab": {
          "base_uri": "https://localhost:8080/"
        },
        "id": "-IZ78CvgcGZ5",
        "outputId": "483cf08e-a2d3-402c-9573-dfc90b986536"
      },
      "source": [
        "formal_education=df['NEWEdImpt'][~df['NEWEdImpt'].isnull()]\n",
        "formal_education"
      ],
      "execution_count": 111,
      "outputs": [
        {
          "output_type": "execute_result",
          "data": {
            "text/plain": [
              "0                          Fairly important\n",
              "1                          Fairly important\n",
              "3        Not at all important/not necessary\n",
              "4                            Very important\n",
              "5                          Fairly important\n",
              "                        ...                \n",
              "64449                        Very important\n",
              "64451                      Fairly important\n",
              "64453                        Very important\n",
              "64456                        Very important\n",
              "64460                  Critically important\n",
              "Name: NEWEdImpt, Length: 48465, dtype: object"
            ]
          },
          "metadata": {
            "tags": []
          },
          "execution_count": 111
        }
      ]
    },
    {
      "cell_type": "code",
      "metadata": {
        "colab": {
          "base_uri": "https://localhost:8080/"
        },
        "id": "Due53qYFcVTo",
        "outputId": "26288abc-9cad-4e07-d7d1-22a52bf29a8a"
      },
      "source": [
        "formal_dict={}\n",
        "for i in formal_education:\n",
        "    if i in formal_dict:\n",
        "        formal_dict[i]+=1\n",
        "    else:\n",
        "        formal_dict[i]=1\n",
        "formal_dict"
      ],
      "execution_count": 112,
      "outputs": [
        {
          "output_type": "execute_result",
          "data": {
            "text/plain": [
              "{'Critically important': 4752,\n",
              " 'Fairly important': 12674,\n",
              " 'Not at all important/not necessary': 7785,\n",
              " 'Somewhat important': 11388,\n",
              " 'Very important': 11866}"
            ]
          },
          "metadata": {
            "tags": []
          },
          "execution_count": 112
        }
      ]
    },
    {
      "cell_type": "code",
      "metadata": {
        "colab": {
          "base_uri": "https://localhost:8080/",
          "height": 198
        },
        "id": "AIoXgMVSchiJ",
        "outputId": "584cec89-ef1d-462e-a1bb-81a06214a9a3"
      },
      "source": [
        "formal_education_df=pd.DataFrame(list(formal_dict.items()),columns=['formal_education','count'])\n",
        "formal_education_df=formal_education_df.sort_values(by='count',ascending=False)\n",
        "formal_education_df['percentage']=round((formal_education_df['count']/len(formal_education))*100,1)\n",
        "formal_education_df"
      ],
      "execution_count": 116,
      "outputs": [
        {
          "output_type": "execute_result",
          "data": {
            "text/html": [
              "<div>\n",
              "<style scoped>\n",
              "    .dataframe tbody tr th:only-of-type {\n",
              "        vertical-align: middle;\n",
              "    }\n",
              "\n",
              "    .dataframe tbody tr th {\n",
              "        vertical-align: top;\n",
              "    }\n",
              "\n",
              "    .dataframe thead th {\n",
              "        text-align: right;\n",
              "    }\n",
              "</style>\n",
              "<table border=\"1\" class=\"dataframe\">\n",
              "  <thead>\n",
              "    <tr style=\"text-align: right;\">\n",
              "      <th></th>\n",
              "      <th>formal_education</th>\n",
              "      <th>count</th>\n",
              "      <th>percentage</th>\n",
              "    </tr>\n",
              "  </thead>\n",
              "  <tbody>\n",
              "    <tr>\n",
              "      <th>0</th>\n",
              "      <td>Fairly important</td>\n",
              "      <td>12674</td>\n",
              "      <td>26.2</td>\n",
              "    </tr>\n",
              "    <tr>\n",
              "      <th>2</th>\n",
              "      <td>Very important</td>\n",
              "      <td>11866</td>\n",
              "      <td>24.5</td>\n",
              "    </tr>\n",
              "    <tr>\n",
              "      <th>3</th>\n",
              "      <td>Somewhat important</td>\n",
              "      <td>11388</td>\n",
              "      <td>23.5</td>\n",
              "    </tr>\n",
              "    <tr>\n",
              "      <th>1</th>\n",
              "      <td>Not at all important/not necessary</td>\n",
              "      <td>7785</td>\n",
              "      <td>16.1</td>\n",
              "    </tr>\n",
              "    <tr>\n",
              "      <th>4</th>\n",
              "      <td>Critically important</td>\n",
              "      <td>4752</td>\n",
              "      <td>9.8</td>\n",
              "    </tr>\n",
              "  </tbody>\n",
              "</table>\n",
              "</div>"
            ],
            "text/plain": [
              "                     formal_education  count  percentage\n",
              "0                    Fairly important  12674        26.2\n",
              "2                      Very important  11866        24.5\n",
              "3                  Somewhat important  11388        23.5\n",
              "1  Not at all important/not necessary   7785        16.1\n",
              "4                Critically important   4752         9.8"
            ]
          },
          "metadata": {
            "tags": []
          },
          "execution_count": 116
        }
      ]
    },
    {
      "cell_type": "code",
      "metadata": {
        "colab": {
          "base_uri": "https://localhost:8080/",
          "height": 312
        },
        "id": "i_ITgHCNdBJ5",
        "outputId": "bc68d3e3-882d-42d7-da36-db3b445f12a0"
      },
      "source": [
        "sns.barplot(x=formal_education_df['percentage'],y=formal_education_df['formal_education']);\n",
        "for i,v in enumerate(formal_education_df['percentage']):\n",
        "    plt.text(v-2,i,str(v))\n",
        "plt.title('Formal Education Importance')"
      ],
      "execution_count": 121,
      "outputs": [
        {
          "output_type": "execute_result",
          "data": {
            "text/plain": [
              "Text(0.5, 1.0, 'Formal Education Importance')"
            ]
          },
          "metadata": {
            "tags": []
          },
          "execution_count": 121
        },
        {
          "output_type": "display_data",
          "data": {
            "image/png": "[encoded data removed]",
            "text/plain": [
              "<Figure size 432x288 with 1 Axes>"
            ]
          },
          "metadata": {
            "tags": [],
            "needs_background": "light"
          }
        }
      ]
    },
    {
      "cell_type": "code",
      "metadata": {
        "colab": {
          "base_uri": "https://localhost:8080/"
        },
        "id": "JLNPLicevnwO",
        "outputId": "f3aad92a-af1a-4d40-8ec3-ebdff0d8c2f6"
      },
      "source": [
        "df['LanguageDesireNextYear'].isnull().sum()"
      ],
      "execution_count": null,
      "outputs": [
        {
          "output_type": "execute_result",
          "data": {
            "text/plain": [
              "10348"
            ]
          },
          "metadata": {
            "tags": []
          },
          "execution_count": 7
        }
      ]
    },
    {
      "cell_type": "code",
      "metadata": {
        "id": "xc3xSbApvuce"
      },
      "source": [
        "desired_languages=df['LanguageDesireNextYear'][~df['LanguageDesireNextYear'].isnull()]"
      ],
      "execution_count": null,
      "outputs": []
    },
    {
      "cell_type": "code",
      "metadata": {
        "id": "xgQ6Xpqv0zFH"
      },
      "source": [
        "desired_languages=desired_languages.apply(lambda x:x.replace('#','sharp'))"
      ],
      "execution_count": null,
      "outputs": []
    },
    {
      "cell_type": "code",
      "metadata": {
        "id": "aL6dV25z1dyo"
      },
      "source": [
        "desired_languages=desired_languages.apply(lambda x:x.replace('++','_plus_plus'))"
      ],
      "execution_count": null,
      "outputs": []
    },
    {
      "cell_type": "code",
      "metadata": {
        "id": "3d35uP5F1zlX"
      },
      "source": [
        "desired_languages=desired_languages.str.split(';')"
      ],
      "execution_count": null,
      "outputs": []
    },
    {
      "cell_type": "code",
      "metadata": {
        "colab": {
          "base_uri": "https://localhost:8080/"
        },
        "id": "3PcB4TcD1o3R",
        "outputId": "9c513f7c-361c-4e0c-d68b-075e727624b2"
      },
      "source": [
        "languages_count={}\n",
        "for i in desired_languages:\n",
        "    for p in i:\n",
        "        if p in languages_count:\n",
        "            languages_count[p]+=1\n",
        "        else:\n",
        "            languages_count[p]=1\n",
        "languages_count"
      ],
      "execution_count": null,
      "outputs": [
        {
          "output_type": "execute_result",
          "data": {
            "text/plain": [
              "{'Assembly': 2469,\n",
              " 'Bash/Shell/PowerShell': 11728,\n",
              " 'C': 6091,\n",
              " 'C_plus_plus': 9756,\n",
              " 'Csharp': 13674,\n",
              " 'Dart': 4742,\n",
              " 'Go': 12605,\n",
              " 'HTML/CSS': 20771,\n",
              " 'Haskell': 2996,\n",
              " 'Java': 13264,\n",
              " 'JavaScript': 26188,\n",
              " 'Julia': 1661,\n",
              " 'Kotlin': 9575,\n",
              " 'Objective-C': 1525,\n",
              " 'PHP': 7106,\n",
              " 'Perl': 1150,\n",
              " 'Python': 26682,\n",
              " 'R': 4271,\n",
              " 'Ruby': 4184,\n",
              " 'Rust': 10563,\n",
              " 'SQL': 19970,\n",
              " 'Scala': 3465,\n",
              " 'Swift': 5643,\n",
              " 'TypeScript': 17150,\n",
              " 'VBA': 1055}"
            ]
          },
          "metadata": {
            "tags": []
          },
          "execution_count": 12
        }
      ]
    },
    {
      "cell_type": "code",
      "metadata": {
        "id": "2mpmba-t2U1Y"
      },
      "source": [
        "desired_lang_def=pd.DataFrame(list(languages_count.items()),columns=['desired_language','count'])\n",
        "desired_lang_def=desired_lang_def.sort_values(by='count',ascending=False)"
      ],
      "execution_count": null,
      "outputs": []
    },
    {
      "cell_type": "code",
      "metadata": {
        "colab": {
          "base_uri": "https://localhost:8080/",
          "height": 530
        },
        "id": "l7XtCgEK4CeQ",
        "outputId": "c6759d03-e6db-4a4f-e066-ecbf5a5a1cd1"
      },
      "source": [
        "plt.figure(figsize=(10,8))\n",
        "sns.barplot(y=desired_lang_def['desired_language'],x=desired_lang_def['count'])\n",
        "plt.title('Language Desire Next Year')"
      ],
      "execution_count": null,
      "outputs": [
        {
          "output_type": "execute_result",
          "data": {
            "text/plain": [
              "Text(0.5, 1.0, 'Language Desire Next Year')"
            ]
          },
          "metadata": {
            "tags": []
          },
          "execution_count": 14
        },
        {
          "output_type": "display_data",
          "data": {
            "image/png": "[encoded data removed]",
            "text/plain": [
              "<Figure size 720x576 with 1 Axes>"
            ]
          },
          "metadata": {
            "tags": [],
            "needs_background": "light"
          }
        }
      ]
    },
    {
      "cell_type": "code",
      "metadata": {
        "colab": {
          "base_uri": "https://localhost:8080/"
        },
        "id": "GFKzEu5c6EH4",
        "outputId": "1e16dde4-eb75-49a7-e185-81f76da66fe2"
      },
      "source": [
        "df['LanguageWorkedWith'].str.contains('Python').sum()"
      ],
      "execution_count": null,
      "outputs": [
        {
          "output_type": "execute_result",
          "data": {
            "text/plain": [
              "25287"
            ]
          },
          "metadata": {
            "tags": []
          },
          "execution_count": 15
        }
      ]
    },
    {
      "cell_type": "code",
      "metadata": {
        "id": "4N9e2AL1-Dvj"
      },
      "source": [
        "Language_Worked_With=df['LanguageWorkedWith'][~df['LanguageWorkedWith'].isnull()]"
      ],
      "execution_count": null,
      "outputs": []
    },
    {
      "cell_type": "code",
      "metadata": {
        "id": "ogVC9WBg-hmx"
      },
      "source": [
        "Language_Worked_With=Language_Worked_With.apply(lambda x:x.replace('#','sharp'))\n",
        "Language_Worked_With=Language_Worked_With.apply(lambda x:x.replace('++','_plus_plus'))\n",
        "Language_Worked_With=Language_Worked_With.str.split(';')"
      ],
      "execution_count": null,
      "outputs": []
    },
    {
      "cell_type": "code",
      "metadata": {
        "colab": {
          "base_uri": "https://localhost:8080/"
        },
        "id": "RLknimrH-wE5",
        "outputId": "27a688e6-0899-49d8-a071-ec4ae7b76f7a"
      },
      "source": [
        "languages_worked={}\n",
        "for i in Language_Worked_With:\n",
        "    for p in i:\n",
        "        if p in languages_worked:\n",
        "            languages_worked[p]+=1\n",
        "        else:\n",
        "            languages_worked[p]=1\n",
        "languages_worked"
      ],
      "execution_count": null,
      "outputs": [
        {
          "output_type": "execute_result",
          "data": {
            "text/plain": [
              "{'Assembly': 3553,\n",
              " 'Bash/Shell/PowerShell': 18980,\n",
              " 'C': 12487,\n",
              " 'C_plus_plus': 13707,\n",
              " 'Csharp': 18041,\n",
              " 'Dart': 2280,\n",
              " 'Go': 5038,\n",
              " 'HTML/CSS': 36181,\n",
              " 'Haskell': 1222,\n",
              " 'Java': 23074,\n",
              " 'JavaScript': 38822,\n",
              " 'Julia': 519,\n",
              " 'Kotlin': 4468,\n",
              " 'Objective-C': 2340,\n",
              " 'PHP': 15007,\n",
              " 'Perl': 1796,\n",
              " 'Python': 25287,\n",
              " 'R': 3288,\n",
              " 'Ruby': 4046,\n",
              " 'Rust': 2929,\n",
              " 'SQL': 31413,\n",
              " 'Scala': 2052,\n",
              " 'Swift': 3397,\n",
              " 'TypeScript': 14578,\n",
              " 'VBA': 3499}"
            ]
          },
          "metadata": {
            "tags": []
          },
          "execution_count": 18
        }
      ]
    },
    {
      "cell_type": "code",
      "metadata": {
        "id": "qQzJDHg0C4yB"
      },
      "source": [
        "Language_Worked_With_df=pd.DataFrame(list(languages_worked.items()),columns=['Language_Worked_With','count'])\n",
        "Language_Worked_With_df=Language_Worked_With_df.sort_values(by='count',ascending=False)"
      ],
      "execution_count": null,
      "outputs": []
    },
    {
      "cell_type": "code",
      "metadata": {
        "colab": {
          "base_uri": "https://localhost:8080/",
          "height": 800
        },
        "id": "BZg78edlDAai",
        "outputId": "fee87e40-536b-45bd-dd52-1e1e9809f0fb"
      },
      "source": [
        "Language_Worked_With_df"
      ],
      "execution_count": null,
      "outputs": [
        {
          "output_type": "execute_result",
          "data": {
            "text/html": [
              "<div>\n",
              "<style scoped>\n",
              "    .dataframe tbody tr th:only-of-type {\n",
              "        vertical-align: middle;\n",
              "    }\n",
              "\n",
              "    .dataframe tbody tr th {\n",
              "        vertical-align: top;\n",
              "    }\n",
              "\n",
              "    .dataframe thead th {\n",
              "        text-align: right;\n",
              "    }\n",
              "</style>\n",
              "<table border=\"1\" class=\"dataframe\">\n",
              "  <thead>\n",
              "    <tr style=\"text-align: right;\">\n",
              "      <th></th>\n",
              "      <th>Language_Worked_With</th>\n",
              "      <th>count</th>\n",
              "    </tr>\n",
              "  </thead>\n",
              "  <tbody>\n",
              "    <tr>\n",
              "      <th>2</th>\n",
              "      <td>JavaScript</td>\n",
              "      <td>38822</td>\n",
              "    </tr>\n",
              "    <tr>\n",
              "      <th>1</th>\n",
              "      <td>HTML/CSS</td>\n",
              "      <td>36181</td>\n",
              "    </tr>\n",
              "    <tr>\n",
              "      <th>7</th>\n",
              "      <td>SQL</td>\n",
              "      <td>31413</td>\n",
              "    </tr>\n",
              "    <tr>\n",
              "      <th>5</th>\n",
              "      <td>Python</td>\n",
              "      <td>25287</td>\n",
              "    </tr>\n",
              "    <tr>\n",
              "      <th>8</th>\n",
              "      <td>Java</td>\n",
              "      <td>23074</td>\n",
              "    </tr>\n",
              "    <tr>\n",
              "      <th>12</th>\n",
              "      <td>Bash/Shell/PowerShell</td>\n",
              "      <td>18980</td>\n",
              "    </tr>\n",
              "    <tr>\n",
              "      <th>0</th>\n",
              "      <td>Csharp</td>\n",
              "      <td>18041</td>\n",
              "    </tr>\n",
              "    <tr>\n",
              "      <th>9</th>\n",
              "      <td>PHP</td>\n",
              "      <td>15007</td>\n",
              "    </tr>\n",
              "    <tr>\n",
              "      <th>11</th>\n",
              "      <td>TypeScript</td>\n",
              "      <td>14578</td>\n",
              "    </tr>\n",
              "    <tr>\n",
              "      <th>18</th>\n",
              "      <td>C_plus_plus</td>\n",
              "      <td>13707</td>\n",
              "    </tr>\n",
              "    <tr>\n",
              "      <th>10</th>\n",
              "      <td>C</td>\n",
              "      <td>12487</td>\n",
              "    </tr>\n",
              "    <tr>\n",
              "      <th>19</th>\n",
              "      <td>Go</td>\n",
              "      <td>5038</td>\n",
              "    </tr>\n",
              "    <tr>\n",
              "      <th>13</th>\n",
              "      <td>Kotlin</td>\n",
              "      <td>4468</td>\n",
              "    </tr>\n",
              "    <tr>\n",
              "      <th>6</th>\n",
              "      <td>Ruby</td>\n",
              "      <td>4046</td>\n",
              "    </tr>\n",
              "    <tr>\n",
              "      <th>24</th>\n",
              "      <td>Assembly</td>\n",
              "      <td>3553</td>\n",
              "    </tr>\n",
              "    <tr>\n",
              "      <th>15</th>\n",
              "      <td>VBA</td>\n",
              "      <td>3499</td>\n",
              "    </tr>\n",
              "    <tr>\n",
              "      <th>3</th>\n",
              "      <td>Swift</td>\n",
              "      <td>3397</td>\n",
              "    </tr>\n",
              "    <tr>\n",
              "      <th>14</th>\n",
              "      <td>R</td>\n",
              "      <td>3288</td>\n",
              "    </tr>\n",
              "    <tr>\n",
              "      <th>21</th>\n",
              "      <td>Rust</td>\n",
              "      <td>2929</td>\n",
              "    </tr>\n",
              "    <tr>\n",
              "      <th>4</th>\n",
              "      <td>Objective-C</td>\n",
              "      <td>2340</td>\n",
              "    </tr>\n",
              "    <tr>\n",
              "      <th>22</th>\n",
              "      <td>Dart</td>\n",
              "      <td>2280</td>\n",
              "    </tr>\n",
              "    <tr>\n",
              "      <th>17</th>\n",
              "      <td>Scala</td>\n",
              "      <td>2052</td>\n",
              "    </tr>\n",
              "    <tr>\n",
              "      <th>16</th>\n",
              "      <td>Perl</td>\n",
              "      <td>1796</td>\n",
              "    </tr>\n",
              "    <tr>\n",
              "      <th>20</th>\n",
              "      <td>Haskell</td>\n",
              "      <td>1222</td>\n",
              "    </tr>\n",
              "    <tr>\n",
              "      <th>23</th>\n",
              "      <td>Julia</td>\n",
              "      <td>519</td>\n",
              "    </tr>\n",
              "  </tbody>\n",
              "</table>\n",
              "</div>"
            ],
            "text/plain": [
              "     Language_Worked_With  count\n",
              "2              JavaScript  38822\n",
              "1                HTML/CSS  36181\n",
              "7                     SQL  31413\n",
              "5                  Python  25287\n",
              "8                    Java  23074\n",
              "12  Bash/Shell/PowerShell  18980\n",
              "0                  Csharp  18041\n",
              "9                     PHP  15007\n",
              "11             TypeScript  14578\n",
              "18            C_plus_plus  13707\n",
              "10                      C  12487\n",
              "19                     Go   5038\n",
              "13                 Kotlin   4468\n",
              "6                    Ruby   4046\n",
              "24               Assembly   3553\n",
              "15                    VBA   3499\n",
              "3                   Swift   3397\n",
              "14                      R   3288\n",
              "21                   Rust   2929\n",
              "4             Objective-C   2340\n",
              "22                   Dart   2280\n",
              "17                  Scala   2052\n",
              "16                   Perl   1796\n",
              "20                Haskell   1222\n",
              "23                  Julia    519"
            ]
          },
          "metadata": {
            "tags": []
          },
          "execution_count": 20
        }
      ]
    },
    {
      "cell_type": "code",
      "metadata": {
        "colab": {
          "base_uri": "https://localhost:8080/",
          "height": 530
        },
        "id": "CgbC_0f5Dbhy",
        "outputId": "a40ac25b-8df9-4ea0-ee57-f30bf20881bb"
      },
      "source": [
        "plt.figure(figsize=(10,8))\n",
        "sns.barplot(y=Language_Worked_With_df['Language_Worked_With'],x=Language_Worked_With_df['count'])\n",
        "plt.title('Language Worked With')"
      ],
      "execution_count": null,
      "outputs": [
        {
          "output_type": "execute_result",
          "data": {
            "text/plain": [
              "Text(0.5, 1.0, 'Language Worked With')"
            ]
          },
          "metadata": {
            "tags": []
          },
          "execution_count": 21
        },
        {
          "output_type": "display_data",
          "data": {
            "image/png": "[encoded data removed]",
            "text/plain": [
              "<Figure size 720x576 with 1 Axes>"
            ]
          },
          "metadata": {
            "tags": [],
            "needs_background": "light"
          }
        }
      ]
    },
    {
      "cell_type": "code",
      "metadata": {
        "colab": {
          "base_uri": "https://localhost:8080/",
          "height": 198
        },
        "id": "ddXMuFkJDt8u",
        "outputId": "e078cbc4-728d-439d-cb75-b2eca32d87c9"
      },
      "source": [
        "loved_lang_df=df[['LanguageDesireNextYear','LanguageWorkedWith']]\n",
        "loved_lang_df.head()"
      ],
      "execution_count": null,
      "outputs": [
        {
          "output_type": "execute_result",
          "data": {
            "text/html": [
              "<div>\n",
              "<style scoped>\n",
              "    .dataframe tbody tr th:only-of-type {\n",
              "        vertical-align: middle;\n",
              "    }\n",
              "\n",
              "    .dataframe tbody tr th {\n",
              "        vertical-align: top;\n",
              "    }\n",
              "\n",
              "    .dataframe thead th {\n",
              "        text-align: right;\n",
              "    }\n",
              "</style>\n",
              "<table border=\"1\" class=\"dataframe\">\n",
              "  <thead>\n",
              "    <tr style=\"text-align: right;\">\n",
              "      <th></th>\n",
              "      <th>LanguageDesireNextYear</th>\n",
              "      <th>LanguageWorkedWith</th>\n",
              "    </tr>\n",
              "  </thead>\n",
              "  <tbody>\n",
              "    <tr>\n",
              "      <th>0</th>\n",
              "      <td>C#;HTML/CSS;JavaScript</td>\n",
              "      <td>C#;HTML/CSS;JavaScript</td>\n",
              "    </tr>\n",
              "    <tr>\n",
              "      <th>1</th>\n",
              "      <td>Python;Swift</td>\n",
              "      <td>JavaScript;Swift</td>\n",
              "    </tr>\n",
              "    <tr>\n",
              "      <th>2</th>\n",
              "      <td>Objective-C;Python;Swift</td>\n",
              "      <td>Objective-C;Python;Swift</td>\n",
              "    </tr>\n",
              "    <tr>\n",
              "      <th>3</th>\n",
              "      <td>NaN</td>\n",
              "      <td>NaN</td>\n",
              "    </tr>\n",
              "    <tr>\n",
              "      <th>4</th>\n",
              "      <td>Java;Ruby;Scala</td>\n",
              "      <td>HTML/CSS;Ruby;SQL</td>\n",
              "    </tr>\n",
              "  </tbody>\n",
              "</table>\n",
              "</div>"
            ],
            "text/plain": [
              "     LanguageDesireNextYear        LanguageWorkedWith\n",
              "0    C#;HTML/CSS;JavaScript    C#;HTML/CSS;JavaScript\n",
              "1              Python;Swift          JavaScript;Swift\n",
              "2  Objective-C;Python;Swift  Objective-C;Python;Swift\n",
              "3                       NaN                       NaN\n",
              "4           Java;Ruby;Scala         HTML/CSS;Ruby;SQL"
            ]
          },
          "metadata": {
            "tags": []
          },
          "execution_count": 22
        }
      ]
    },
    {
      "cell_type": "code",
      "metadata": {
        "id": "-N5ve2GDILsS"
      },
      "source": [
        "loved_lang_df=loved_lang_df.dropna()"
      ],
      "execution_count": null,
      "outputs": []
    },
    {
      "cell_type": "code",
      "metadata": {
        "colab": {
          "base_uri": "https://localhost:8080/",
          "height": 408
        },
        "id": "ohXpnwNSGyRn",
        "outputId": "1d72c966-dd61-40ca-e250-db503271d666"
      },
      "source": [
        "loved_lang_df=loved_lang_df.applymap(lambda x:x.replace('#','sharp'))\n",
        "loved_lang_df=loved_lang_df.applymap(lambda x:x.replace('++','_plus_plus'))\n",
        "loved_lang_df"
      ],
      "execution_count": null,
      "outputs": [
        {
          "output_type": "execute_result",
          "data": {
            "text/html": [
              "<div>\n",
              "<style scoped>\n",
              "    .dataframe tbody tr th:only-of-type {\n",
              "        vertical-align: middle;\n",
              "    }\n",
              "\n",
              "    .dataframe tbody tr th {\n",
              "        vertical-align: top;\n",
              "    }\n",
              "\n",
              "    .dataframe thead th {\n",
              "        text-align: right;\n",
              "    }\n",
              "</style>\n",
              "<table border=\"1\" class=\"dataframe\">\n",
              "  <thead>\n",
              "    <tr style=\"text-align: right;\">\n",
              "      <th></th>\n",
              "      <th>LanguageDesireNextYear</th>\n",
              "      <th>LanguageWorkedWith</th>\n",
              "    </tr>\n",
              "  </thead>\n",
              "  <tbody>\n",
              "    <tr>\n",
              "      <th>0</th>\n",
              "      <td>Csharp;HTML/CSS;JavaScript</td>\n",
              "      <td>Csharp;HTML/CSS;JavaScript</td>\n",
              "    </tr>\n",
              "    <tr>\n",
              "      <th>1</th>\n",
              "      <td>Python;Swift</td>\n",
              "      <td>JavaScript;Swift</td>\n",
              "    </tr>\n",
              "    <tr>\n",
              "      <th>2</th>\n",
              "      <td>Objective-C;Python;Swift</td>\n",
              "      <td>Objective-C;Python;Swift</td>\n",
              "    </tr>\n",
              "    <tr>\n",
              "      <th>4</th>\n",
              "      <td>Java;Ruby;Scala</td>\n",
              "      <td>HTML/CSS;Ruby;SQL</td>\n",
              "    </tr>\n",
              "    <tr>\n",
              "      <th>5</th>\n",
              "      <td>HTML/CSS;Java;JavaScript</td>\n",
              "      <td>HTML/CSS;Java;JavaScript</td>\n",
              "    </tr>\n",
              "    <tr>\n",
              "      <th>...</th>\n",
              "      <td>...</td>\n",
              "      <td>...</td>\n",
              "    </tr>\n",
              "    <tr>\n",
              "      <th>64447</th>\n",
              "      <td>PHP;Python</td>\n",
              "      <td>Csharp;HTML/CSS;Java;JavaScript;Swift</td>\n",
              "    </tr>\n",
              "    <tr>\n",
              "      <th>64453</th>\n",
              "      <td>C_plus_plus;HTML/CSS</td>\n",
              "      <td>C_plus_plus;HTML/CSS</td>\n",
              "    </tr>\n",
              "    <tr>\n",
              "      <th>64457</th>\n",
              "      <td>Assembly;Bash/Shell/PowerShell;C;Csharp;C_plus...</td>\n",
              "      <td>Assembly;Bash/Shell/PowerShell;C;Csharp;C_plus...</td>\n",
              "    </tr>\n",
              "    <tr>\n",
              "      <th>64459</th>\n",
              "      <td>HTML/CSS;Java;JavaScript</td>\n",
              "      <td>HTML/CSS</td>\n",
              "    </tr>\n",
              "    <tr>\n",
              "      <th>64460</th>\n",
              "      <td>Csharp;HTML/CSS;Java;JavaScript;SQL</td>\n",
              "      <td>Csharp;HTML/CSS;Java;JavaScript;SQL</td>\n",
              "    </tr>\n",
              "  </tbody>\n",
              "</table>\n",
              "<p>53712 rows × 2 columns</p>\n",
              "</div>"
            ],
            "text/plain": [
              "                                  LanguageDesireNextYear                                 LanguageWorkedWith\n",
              "0                             Csharp;HTML/CSS;JavaScript                         Csharp;HTML/CSS;JavaScript\n",
              "1                                           Python;Swift                                   JavaScript;Swift\n",
              "2                               Objective-C;Python;Swift                           Objective-C;Python;Swift\n",
              "4                                        Java;Ruby;Scala                                  HTML/CSS;Ruby;SQL\n",
              "5                               HTML/CSS;Java;JavaScript                           HTML/CSS;Java;JavaScript\n",
              "...                                                  ...                                                ...\n",
              "64447                                         PHP;Python              Csharp;HTML/CSS;Java;JavaScript;Swift\n",
              "64453                               C_plus_plus;HTML/CSS                               C_plus_plus;HTML/CSS\n",
              "64457  Assembly;Bash/Shell/PowerShell;C;Csharp;C_plus...  Assembly;Bash/Shell/PowerShell;C;Csharp;C_plus...\n",
              "64459                           HTML/CSS;Java;JavaScript                                           HTML/CSS\n",
              "64460                Csharp;HTML/CSS;Java;JavaScript;SQL                Csharp;HTML/CSS;Java;JavaScript;SQL\n",
              "\n",
              "[53712 rows x 2 columns]"
            ]
          },
          "metadata": {
            "tags": []
          },
          "execution_count": 24
        }
      ]
    },
    {
      "cell_type": "code",
      "metadata": {
        "id": "fUHmw_d7Iz16"
      },
      "source": [
        "loved_lang_df=loved_lang_df.applymap(lambda x:x.split(';'))"
      ],
      "execution_count": null,
      "outputs": []
    },
    {
      "cell_type": "code",
      "metadata": {
        "colab": {
          "base_uri": "https://localhost:8080/"
        },
        "id": "R0WEpQ80JInq",
        "outputId": "0e3cbed8-4fa4-4e12-fb98-b4188c1c7a9d"
      },
      "source": [
        "loved_lang={}\n",
        "for i in loved_lang_df:\n",
        "    for p in loved_lang_df[i]:\n",
        "        for l in p:\n",
        "            if l in loved_lang:\n",
        "                loved_lang[l]+=1\n",
        "            else:\n",
        "                loved_lang[l]=1\n",
        "loved_lang"
      ],
      "execution_count": null,
      "outputs": [
        {
          "output_type": "execute_result",
          "data": {
            "text/plain": [
              "{'Assembly': 5720,\n",
              " 'Bash/Shell/PowerShell': 29647,\n",
              " 'C': 17627,\n",
              " 'C_plus_plus': 22372,\n",
              " 'Csharp': 30415,\n",
              " 'Dart': 6830,\n",
              " 'Go': 17323,\n",
              " 'HTML/CSS': 54450,\n",
              " 'Haskell': 4123,\n",
              " 'Java': 34704,\n",
              " 'JavaScript': 62287,\n",
              " 'Julia': 2100,\n",
              " 'Kotlin': 13716,\n",
              " 'Objective-C': 3645,\n",
              " 'PHP': 20971,\n",
              " 'Perl': 2768,\n",
              " 'Python': 50267,\n",
              " 'R': 7339,\n",
              " 'Ruby': 7938,\n",
              " 'Rust': 13341,\n",
              " 'SQL': 49300,\n",
              " 'Scala': 5382,\n",
              " 'Swift': 8755,\n",
              " 'TypeScript': 30810,\n",
              " 'VBA': 4238}"
            ]
          },
          "metadata": {
            "tags": []
          },
          "execution_count": 26
        }
      ]
    },
    {
      "cell_type": "code",
      "metadata": {
        "colab": {
          "base_uri": "https://localhost:8080/",
          "height": 800
        },
        "id": "Jaowzy1jNpdN",
        "outputId": "5ee003cd-15bf-44f3-8d8f-5086c00942b7"
      },
      "source": [
        "loved_lang_df=pd.DataFrame(list(loved_lang.items()),columns=['langauage','count'])\n",
        "loved_lang_df=loved_lang_df.sort_values(by='count',ascending=False)\n",
        "loved_lang_df"
      ],
      "execution_count": null,
      "outputs": [
        {
          "output_type": "execute_result",
          "data": {
            "text/html": [
              "<div>\n",
              "<style scoped>\n",
              "    .dataframe tbody tr th:only-of-type {\n",
              "        vertical-align: middle;\n",
              "    }\n",
              "\n",
              "    .dataframe tbody tr th {\n",
              "        vertical-align: top;\n",
              "    }\n",
              "\n",
              "    .dataframe thead th {\n",
              "        text-align: right;\n",
              "    }\n",
              "</style>\n",
              "<table border=\"1\" class=\"dataframe\">\n",
              "  <thead>\n",
              "    <tr style=\"text-align: right;\">\n",
              "      <th></th>\n",
              "      <th>langauage</th>\n",
              "      <th>count</th>\n",
              "    </tr>\n",
              "  </thead>\n",
              "  <tbody>\n",
              "    <tr>\n",
              "      <th>2</th>\n",
              "      <td>JavaScript</td>\n",
              "      <td>62287</td>\n",
              "    </tr>\n",
              "    <tr>\n",
              "      <th>1</th>\n",
              "      <td>HTML/CSS</td>\n",
              "      <td>54450</td>\n",
              "    </tr>\n",
              "    <tr>\n",
              "      <th>3</th>\n",
              "      <td>Python</td>\n",
              "      <td>50267</td>\n",
              "    </tr>\n",
              "    <tr>\n",
              "      <th>12</th>\n",
              "      <td>SQL</td>\n",
              "      <td>49300</td>\n",
              "    </tr>\n",
              "    <tr>\n",
              "      <th>6</th>\n",
              "      <td>Java</td>\n",
              "      <td>34704</td>\n",
              "    </tr>\n",
              "    <tr>\n",
              "      <th>14</th>\n",
              "      <td>TypeScript</td>\n",
              "      <td>30810</td>\n",
              "    </tr>\n",
              "    <tr>\n",
              "      <th>0</th>\n",
              "      <td>Csharp</td>\n",
              "      <td>30415</td>\n",
              "    </tr>\n",
              "    <tr>\n",
              "      <th>16</th>\n",
              "      <td>Bash/Shell/PowerShell</td>\n",
              "      <td>29647</td>\n",
              "    </tr>\n",
              "    <tr>\n",
              "      <th>20</th>\n",
              "      <td>C_plus_plus</td>\n",
              "      <td>22372</td>\n",
              "    </tr>\n",
              "    <tr>\n",
              "      <th>9</th>\n",
              "      <td>PHP</td>\n",
              "      <td>20971</td>\n",
              "    </tr>\n",
              "    <tr>\n",
              "      <th>17</th>\n",
              "      <td>C</td>\n",
              "      <td>17627</td>\n",
              "    </tr>\n",
              "    <tr>\n",
              "      <th>13</th>\n",
              "      <td>Go</td>\n",
              "      <td>17323</td>\n",
              "    </tr>\n",
              "    <tr>\n",
              "      <th>22</th>\n",
              "      <td>Kotlin</td>\n",
              "      <td>13716</td>\n",
              "    </tr>\n",
              "    <tr>\n",
              "      <th>10</th>\n",
              "      <td>Rust</td>\n",
              "      <td>13341</td>\n",
              "    </tr>\n",
              "    <tr>\n",
              "      <th>4</th>\n",
              "      <td>Swift</td>\n",
              "      <td>8755</td>\n",
              "    </tr>\n",
              "    <tr>\n",
              "      <th>7</th>\n",
              "      <td>Ruby</td>\n",
              "      <td>7938</td>\n",
              "    </tr>\n",
              "    <tr>\n",
              "      <th>11</th>\n",
              "      <td>R</td>\n",
              "      <td>7339</td>\n",
              "    </tr>\n",
              "    <tr>\n",
              "      <th>23</th>\n",
              "      <td>Dart</td>\n",
              "      <td>6830</td>\n",
              "    </tr>\n",
              "    <tr>\n",
              "      <th>15</th>\n",
              "      <td>Assembly</td>\n",
              "      <td>5720</td>\n",
              "    </tr>\n",
              "    <tr>\n",
              "      <th>8</th>\n",
              "      <td>Scala</td>\n",
              "      <td>5382</td>\n",
              "    </tr>\n",
              "    <tr>\n",
              "      <th>24</th>\n",
              "      <td>VBA</td>\n",
              "      <td>4238</td>\n",
              "    </tr>\n",
              "    <tr>\n",
              "      <th>18</th>\n",
              "      <td>Haskell</td>\n",
              "      <td>4123</td>\n",
              "    </tr>\n",
              "    <tr>\n",
              "      <th>5</th>\n",
              "      <td>Objective-C</td>\n",
              "      <td>3645</td>\n",
              "    </tr>\n",
              "    <tr>\n",
              "      <th>19</th>\n",
              "      <td>Perl</td>\n",
              "      <td>2768</td>\n",
              "    </tr>\n",
              "    <tr>\n",
              "      <th>21</th>\n",
              "      <td>Julia</td>\n",
              "      <td>2100</td>\n",
              "    </tr>\n",
              "  </tbody>\n",
              "</table>\n",
              "</div>"
            ],
            "text/plain": [
              "                langauage  count\n",
              "2              JavaScript  62287\n",
              "1                HTML/CSS  54450\n",
              "3                  Python  50267\n",
              "12                    SQL  49300\n",
              "6                    Java  34704\n",
              "14             TypeScript  30810\n",
              "0                  Csharp  30415\n",
              "16  Bash/Shell/PowerShell  29647\n",
              "20            C_plus_plus  22372\n",
              "9                     PHP  20971\n",
              "17                      C  17627\n",
              "13                     Go  17323\n",
              "22                 Kotlin  13716\n",
              "10                   Rust  13341\n",
              "4                   Swift   8755\n",
              "7                    Ruby   7938\n",
              "11                      R   7339\n",
              "23                   Dart   6830\n",
              "15               Assembly   5720\n",
              "8                   Scala   5382\n",
              "24                    VBA   4238\n",
              "18                Haskell   4123\n",
              "5             Objective-C   3645\n",
              "19                   Perl   2768\n",
              "21                  Julia   2100"
            ]
          },
          "metadata": {
            "tags": []
          },
          "execution_count": 27
        }
      ]
    },
    {
      "cell_type": "code",
      "metadata": {
        "colab": {
          "base_uri": "https://localhost:8080/",
          "height": 530
        },
        "id": "zle4mXiBNwuW",
        "outputId": "cc634ebc-9cd7-4317-a62f-d5618160a4a1"
      },
      "source": [
        "plt.figure(figsize=(10,8))\n",
        "sns.barplot(x=loved_lang_df['count'],y=loved_lang_df['langauage'])\n",
        "plt.title('Loved Languages')"
      ],
      "execution_count": null,
      "outputs": [
        {
          "output_type": "execute_result",
          "data": {
            "text/plain": [
              "Text(0.5, 1.0, 'Loved Languages')"
            ]
          },
          "metadata": {
            "tags": []
          },
          "execution_count": 28
        },
        {
          "output_type": "display_data",
          "data": {
            "image/png": "[encoded data removed]",
            "text/plain": [
              "<Figure size 720x576 with 1 Axes>"
            ]
          },
          "metadata": {
            "tags": [],
            "needs_background": "light"
          }
        }
      ]
    }
  ]
}